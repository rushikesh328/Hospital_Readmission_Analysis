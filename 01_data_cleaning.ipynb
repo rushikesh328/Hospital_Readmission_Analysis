{
 "cells": [
  {
   "cell_type": "markdown",
   "id": "4c4260ac",
   "metadata": {},
   "source": [
    "### 1. Importing the Libraries, and Loading the Dataset"
   ]
  },
  {
   "cell_type": "code",
   "execution_count": 11,
   "id": "b7169004",
   "metadata": {},
   "outputs": [
    {
     "name": "stdout",
     "output_type": "stream",
     "text": [
      "(18510, 12)\n"
     ]
    },
    {
     "data": {
      "text/html": [
       "<div>\n",
       "<style scoped>\n",
       "    .dataframe tbody tr th:only-of-type {\n",
       "        vertical-align: middle;\n",
       "    }\n",
       "\n",
       "    .dataframe tbody tr th {\n",
       "        vertical-align: top;\n",
       "    }\n",
       "\n",
       "    .dataframe thead th {\n",
       "        text-align: right;\n",
       "    }\n",
       "</style>\n",
       "<table border=\"1\" class=\"dataframe\">\n",
       "  <thead>\n",
       "    <tr style=\"text-align: right;\">\n",
       "      <th></th>\n",
       "      <th>Facility Name</th>\n",
       "      <th>Facility ID</th>\n",
       "      <th>State</th>\n",
       "      <th>Measure Name</th>\n",
       "      <th>Number of Discharges</th>\n",
       "      <th>Footnote</th>\n",
       "      <th>Excess Readmission Ratio</th>\n",
       "      <th>Predicted Readmission Rate</th>\n",
       "      <th>Expected Readmission Rate</th>\n",
       "      <th>Number of Readmissions</th>\n",
       "      <th>Start Date</th>\n",
       "      <th>End Date</th>\n",
       "    </tr>\n",
       "  </thead>\n",
       "  <tbody>\n",
       "    <tr>\n",
       "      <th>0</th>\n",
       "      <td>SOUTHEAST HEALTH MEDICAL CENTER</td>\n",
       "      <td>10001</td>\n",
       "      <td>AL</td>\n",
       "      <td>READM-30-AMI-HRRP</td>\n",
       "      <td>296.0</td>\n",
       "      <td>NaN</td>\n",
       "      <td>0.9483</td>\n",
       "      <td>13.0146</td>\n",
       "      <td>13.7235</td>\n",
       "      <td>36</td>\n",
       "      <td>07/01/2020</td>\n",
       "      <td>06/30/2023</td>\n",
       "    </tr>\n",
       "    <tr>\n",
       "      <th>1</th>\n",
       "      <td>SOUTHEAST HEALTH MEDICAL CENTER</td>\n",
       "      <td>10001</td>\n",
       "      <td>AL</td>\n",
       "      <td>READM-30-CABG-HRRP</td>\n",
       "      <td>151.0</td>\n",
       "      <td>NaN</td>\n",
       "      <td>0.9509</td>\n",
       "      <td>9.6899</td>\n",
       "      <td>10.1898</td>\n",
       "      <td>13</td>\n",
       "      <td>07/01/2020</td>\n",
       "      <td>06/30/2023</td>\n",
       "    </tr>\n",
       "    <tr>\n",
       "      <th>2</th>\n",
       "      <td>SOUTHEAST HEALTH MEDICAL CENTER</td>\n",
       "      <td>10001</td>\n",
       "      <td>AL</td>\n",
       "      <td>READM-30-HF-HRRP</td>\n",
       "      <td>681.0</td>\n",
       "      <td>NaN</td>\n",
       "      <td>1.0597</td>\n",
       "      <td>21.5645</td>\n",
       "      <td>20.3495</td>\n",
       "      <td>151</td>\n",
       "      <td>07/01/2020</td>\n",
       "      <td>06/30/2023</td>\n",
       "    </tr>\n",
       "    <tr>\n",
       "      <th>3</th>\n",
       "      <td>SOUTHEAST HEALTH MEDICAL CENTER</td>\n",
       "      <td>10001</td>\n",
       "      <td>AL</td>\n",
       "      <td>READM-30-HIP-KNEE-HRRP</td>\n",
       "      <td>NaN</td>\n",
       "      <td>NaN</td>\n",
       "      <td>0.9654</td>\n",
       "      <td>4.2680</td>\n",
       "      <td>4.4211</td>\n",
       "      <td>Too Few to Report</td>\n",
       "      <td>07/01/2020</td>\n",
       "      <td>06/30/2023</td>\n",
       "    </tr>\n",
       "    <tr>\n",
       "      <th>4</th>\n",
       "      <td>SOUTHEAST HEALTH MEDICAL CENTER</td>\n",
       "      <td>10001</td>\n",
       "      <td>AL</td>\n",
       "      <td>READM-30-PN-HRRP</td>\n",
       "      <td>490.0</td>\n",
       "      <td>NaN</td>\n",
       "      <td>0.9715</td>\n",
       "      <td>16.1137</td>\n",
       "      <td>16.5863</td>\n",
       "      <td>77</td>\n",
       "      <td>07/01/2020</td>\n",
       "      <td>06/30/2023</td>\n",
       "    </tr>\n",
       "  </tbody>\n",
       "</table>\n",
       "</div>"
      ],
      "text/plain": [
       "                     Facility Name  Facility ID State            Measure Name  \\\n",
       "0  SOUTHEAST HEALTH MEDICAL CENTER        10001    AL       READM-30-AMI-HRRP   \n",
       "1  SOUTHEAST HEALTH MEDICAL CENTER        10001    AL      READM-30-CABG-HRRP   \n",
       "2  SOUTHEAST HEALTH MEDICAL CENTER        10001    AL        READM-30-HF-HRRP   \n",
       "3  SOUTHEAST HEALTH MEDICAL CENTER        10001    AL  READM-30-HIP-KNEE-HRRP   \n",
       "4  SOUTHEAST HEALTH MEDICAL CENTER        10001    AL        READM-30-PN-HRRP   \n",
       "\n",
       "   Number of Discharges  Footnote  Excess Readmission Ratio  \\\n",
       "0                 296.0       NaN                    0.9483   \n",
       "1                 151.0       NaN                    0.9509   \n",
       "2                 681.0       NaN                    1.0597   \n",
       "3                   NaN       NaN                    0.9654   \n",
       "4                 490.0       NaN                    0.9715   \n",
       "\n",
       "   Predicted Readmission Rate  Expected Readmission Rate  \\\n",
       "0                     13.0146                    13.7235   \n",
       "1                      9.6899                    10.1898   \n",
       "2                     21.5645                    20.3495   \n",
       "3                      4.2680                     4.4211   \n",
       "4                     16.1137                    16.5863   \n",
       "\n",
       "  Number of Readmissions  Start Date    End Date  \n",
       "0                     36  07/01/2020  06/30/2023  \n",
       "1                     13  07/01/2020  06/30/2023  \n",
       "2                    151  07/01/2020  06/30/2023  \n",
       "3      Too Few to Report  07/01/2020  06/30/2023  \n",
       "4                     77  07/01/2020  06/30/2023  "
      ]
     },
     "execution_count": 11,
     "metadata": {},
     "output_type": "execute_result"
    }
   ],
   "source": [
    "import pandas as pd\n",
    "import numpy as np\n",
    "\n",
    "df = pd.read_csv(\"data/FY_2025_Hospital_Readmissions_Reduction_Program_Hospital.csv\")\n",
    "print(df.shape)\n",
    "df.head()"
   ]
  },
  {
   "cell_type": "markdown",
   "id": "9cbbe895",
   "metadata": {},
   "source": [
    "### 2. Finding missing values and dropping them from the dataset"
   ]
  },
  {
   "cell_type": "code",
   "execution_count": 12,
   "id": "9c95bac1",
   "metadata": {},
   "outputs": [
    {
     "data": {
      "text/plain": [
       "Facility Name                     0\n",
       "Facility ID                       0\n",
       "State                             0\n",
       "Measure Name                      0\n",
       "Number of Discharges          10170\n",
       "Footnote                      11927\n",
       "Excess Readmission Ratio       6583\n",
       "Predicted Readmission Rate     6583\n",
       "Expected Readmission Rate      6583\n",
       "Number of Readmissions         6583\n",
       "Start Date                        0\n",
       "End Date                          0\n",
       "dtype: int64"
      ]
     },
     "execution_count": 12,
     "metadata": {},
     "output_type": "execute_result"
    }
   ],
   "source": [
    "df.isna().sum()"
   ]
  },
  {
   "cell_type": "code",
   "execution_count": 13,
   "id": "f12514d8",
   "metadata": {},
   "outputs": [
    {
     "name": "stdout",
     "output_type": "stream",
     "text": [
      "Remaining rows: 8121\n"
     ]
    }
   ],
   "source": [
    "df_clean = df.dropna(subset=[\n",
    "    'Excess Readmission Ratio',\n",
    "    'Predicted Readmission Rate',\n",
    "    'Expected Readmission Rate',\n",
    "    'Number of Discharges'\n",
    "]).copy()\n",
    "print(\"Remaining rows:\", len(df_clean))"
   ]
  },
  {
   "cell_type": "markdown",
   "id": "fc062416",
   "metadata": {},
   "source": [
    "### 3. Finding the data types, and converting to numeric if necessary"
   ]
  },
  {
   "cell_type": "code",
   "execution_count": 14,
   "id": "72a33ca4",
   "metadata": {},
   "outputs": [
    {
     "data": {
      "text/plain": [
       "Facility Name                  object\n",
       "Facility ID                     int64\n",
       "State                          object\n",
       "Measure Name                   object\n",
       "Number of Discharges          float64\n",
       "Footnote                      float64\n",
       "Excess Readmission Ratio      float64\n",
       "Predicted Readmission Rate    float64\n",
       "Expected Readmission Rate     float64\n",
       "Number of Readmissions         object\n",
       "Start Date                     object\n",
       "End Date                       object\n",
       "dtype: object"
      ]
     },
     "execution_count": 14,
     "metadata": {},
     "output_type": "execute_result"
    }
   ],
   "source": [
    "df_clean.dtypes"
   ]
  },
  {
   "cell_type": "code",
   "execution_count": 15,
   "id": "a67e2c82",
   "metadata": {},
   "outputs": [],
   "source": [
    "df_clean['Number of Readmissions'] = (\n",
    "    df_clean['Number of Readmissions']\n",
    "    .astype(str)\n",
    "    .str.replace(',', '', regex=True)\n",
    "    .replace('Not Available', np.nan)\n",
    ")\n",
    "df_clean['Number of Readmissions'] = pd.to_numeric(df_clean['Number of Readmissions'], errors='coerce')\n",
    "\n",
    "df_clean['Start Date'] = pd.to_datetime(df_clean['Start Date'], errors='coerce')\n",
    "df_clean['End Date'] = pd.to_datetime(df_clean['End Date'], errors='coerce')"
   ]
  },
  {
   "cell_type": "code",
   "execution_count": 16,
   "id": "9f4a1e4d",
   "metadata": {},
   "outputs": [
    {
     "data": {
      "text/plain": [
       "51"
      ]
     },
     "execution_count": 16,
     "metadata": {},
     "output_type": "execute_result"
    }
   ],
   "source": [
    "for c in [\"Facility Name\", \"State\", \"Measure Name\"]:\n",
    "    df_clean[c] = df_clean[c].astype(str).str.strip()  # Removeing extra spaces\n",
    "\n",
    "df_clean[\"State\"] = df_clean[\"State\"].str.upper()  # Standardizing case for state codes\n",
    "df_clean['State'].nunique()"
   ]
  },
  {
   "cell_type": "code",
   "execution_count": 17,
   "id": "3c425248",
   "metadata": {},
   "outputs": [
    {
     "name": "stdout",
     "output_type": "stream",
     "text": [
      "Saved: data/hospital_readmission_clean.csv\n"
     ]
    }
   ],
   "source": [
    "# Saving cleaned csv file for future use for EDA and Predictive Modeling.\n",
    "\n",
    "cleaned_csv = \"data/hospital_readmission_clean.csv\"\n",
    "df_clean.to_csv(cleaned_csv, index=False)\n",
    "print(\"Saved:\", cleaned_csv)"
   ]
  }
 ],
 "metadata": {
  "kernelspec": {
   "display_name": "Python 3",
   "language": "python",
   "name": "python3"
  },
  "language_info": {
   "codemirror_mode": {
    "name": "ipython",
    "version": 3
   },
   "file_extension": ".py",
   "mimetype": "text/x-python",
   "name": "python",
   "nbconvert_exporter": "python",
   "pygments_lexer": "ipython3",
   "version": "3.12.1"
  }
 },
 "nbformat": 4,
 "nbformat_minor": 5
}
