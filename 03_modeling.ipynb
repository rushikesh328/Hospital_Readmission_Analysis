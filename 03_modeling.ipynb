{
 "cells": [
  {
   "cell_type": "markdown",
   "id": "2a023450",
   "metadata": {},
   "source": [
    "### 1. Loading and Inspecting the cleaned data"
   ]
  },
  {
   "cell_type": "code",
   "execution_count": null,
   "id": "c2a6d0fe",
   "metadata": {},
   "outputs": [
    {
     "name": "stdout",
     "output_type": "stream",
     "text": [
      "(8121, 12)\n"
     ]
    },
    {
     "data": {
      "text/html": [
       "<div>\n",
       "<style scoped>\n",
       "    .dataframe tbody tr th:only-of-type {\n",
       "        vertical-align: middle;\n",
       "    }\n",
       "\n",
       "    .dataframe tbody tr th {\n",
       "        vertical-align: top;\n",
       "    }\n",
       "\n",
       "    .dataframe thead th {\n",
       "        text-align: right;\n",
       "    }\n",
       "</style>\n",
       "<table border=\"1\" class=\"dataframe\">\n",
       "  <thead>\n",
       "    <tr style=\"text-align: right;\">\n",
       "      <th></th>\n",
       "      <th>Facility Name</th>\n",
       "      <th>Facility ID</th>\n",
       "      <th>State</th>\n",
       "      <th>Measure Name</th>\n",
       "      <th>Number of Discharges</th>\n",
       "      <th>Footnote</th>\n",
       "      <th>Excess Readmission Ratio</th>\n",
       "      <th>Predicted Readmission Rate</th>\n",
       "      <th>Expected Readmission Rate</th>\n",
       "      <th>Number of Readmissions</th>\n",
       "      <th>Start Date</th>\n",
       "      <th>End Date</th>\n",
       "    </tr>\n",
       "  </thead>\n",
       "  <tbody>\n",
       "    <tr>\n",
       "      <th>0</th>\n",
       "      <td>SOUTHEAST HEALTH MEDICAL CENTER</td>\n",
       "      <td>10001</td>\n",
       "      <td>AL</td>\n",
       "      <td>READM-30-AMI-HRRP</td>\n",
       "      <td>296.0</td>\n",
       "      <td>NaN</td>\n",
       "      <td>0.9483</td>\n",
       "      <td>13.0146</td>\n",
       "      <td>13.7235</td>\n",
       "      <td>36</td>\n",
       "      <td>2020-07-01</td>\n",
       "      <td>2023-06-30</td>\n",
       "    </tr>\n",
       "    <tr>\n",
       "      <th>1</th>\n",
       "      <td>SOUTHEAST HEALTH MEDICAL CENTER</td>\n",
       "      <td>10001</td>\n",
       "      <td>AL</td>\n",
       "      <td>READM-30-CABG-HRRP</td>\n",
       "      <td>151.0</td>\n",
       "      <td>NaN</td>\n",
       "      <td>0.9509</td>\n",
       "      <td>9.6899</td>\n",
       "      <td>10.1898</td>\n",
       "      <td>13</td>\n",
       "      <td>2020-07-01</td>\n",
       "      <td>2023-06-30</td>\n",
       "    </tr>\n",
       "    <tr>\n",
       "      <th>2</th>\n",
       "      <td>SOUTHEAST HEALTH MEDICAL CENTER</td>\n",
       "      <td>10001</td>\n",
       "      <td>AL</td>\n",
       "      <td>READM-30-HF-HRRP</td>\n",
       "      <td>681.0</td>\n",
       "      <td>NaN</td>\n",
       "      <td>1.0597</td>\n",
       "      <td>21.5645</td>\n",
       "      <td>20.3495</td>\n",
       "      <td>151</td>\n",
       "      <td>2020-07-01</td>\n",
       "      <td>2023-06-30</td>\n",
       "    </tr>\n",
       "    <tr>\n",
       "      <th>3</th>\n",
       "      <td>SOUTHEAST HEALTH MEDICAL CENTER</td>\n",
       "      <td>10001</td>\n",
       "      <td>AL</td>\n",
       "      <td>READM-30-PN-HRRP</td>\n",
       "      <td>490.0</td>\n",
       "      <td>NaN</td>\n",
       "      <td>0.9715</td>\n",
       "      <td>16.1137</td>\n",
       "      <td>16.5863</td>\n",
       "      <td>77</td>\n",
       "      <td>2020-07-01</td>\n",
       "      <td>2023-06-30</td>\n",
       "    </tr>\n",
       "    <tr>\n",
       "      <th>4</th>\n",
       "      <td>SOUTHEAST HEALTH MEDICAL CENTER</td>\n",
       "      <td>10001</td>\n",
       "      <td>AL</td>\n",
       "      <td>READM-30-COPD-HRRP</td>\n",
       "      <td>130.0</td>\n",
       "      <td>NaN</td>\n",
       "      <td>0.9330</td>\n",
       "      <td>15.4544</td>\n",
       "      <td>16.5637</td>\n",
       "      <td>16</td>\n",
       "      <td>2020-07-01</td>\n",
       "      <td>2023-06-30</td>\n",
       "    </tr>\n",
       "  </tbody>\n",
       "</table>\n",
       "</div>"
      ],
      "text/plain": [
       "                     Facility Name  Facility ID State        Measure Name  \\\n",
       "0  SOUTHEAST HEALTH MEDICAL CENTER        10001    AL   READM-30-AMI-HRRP   \n",
       "1  SOUTHEAST HEALTH MEDICAL CENTER        10001    AL  READM-30-CABG-HRRP   \n",
       "2  SOUTHEAST HEALTH MEDICAL CENTER        10001    AL    READM-30-HF-HRRP   \n",
       "3  SOUTHEAST HEALTH MEDICAL CENTER        10001    AL    READM-30-PN-HRRP   \n",
       "4  SOUTHEAST HEALTH MEDICAL CENTER        10001    AL  READM-30-COPD-HRRP   \n",
       "\n",
       "   Number of Discharges  Footnote  Excess Readmission Ratio  \\\n",
       "0                 296.0       NaN                    0.9483   \n",
       "1                 151.0       NaN                    0.9509   \n",
       "2                 681.0       NaN                    1.0597   \n",
       "3                 490.0       NaN                    0.9715   \n",
       "4                 130.0       NaN                    0.9330   \n",
       "\n",
       "   Predicted Readmission Rate  Expected Readmission Rate  \\\n",
       "0                     13.0146                    13.7235   \n",
       "1                      9.6899                    10.1898   \n",
       "2                     21.5645                    20.3495   \n",
       "3                     16.1137                    16.5863   \n",
       "4                     15.4544                    16.5637   \n",
       "\n",
       "   Number of Readmissions  Start Date    End Date  \n",
       "0                      36  2020-07-01  2023-06-30  \n",
       "1                      13  2020-07-01  2023-06-30  \n",
       "2                     151  2020-07-01  2023-06-30  \n",
       "3                      77  2020-07-01  2023-06-30  \n",
       "4                      16  2020-07-01  2023-06-30  "
      ]
     },
     "execution_count": 1,
     "metadata": {},
     "output_type": "execute_result"
    }
   ],
   "source": [
    "import pandas as pd\n",
    "import numpy as np\n",
    "\n",
    "df = pd.read_csv(\"data/hospital_readmission_clean.csv\")\n",
    "print(df.shape)\n",
    "df.head()"
   ]
  },
  {
   "cell_type": "code",
   "execution_count": 2,
   "id": "3b9d1776",
   "metadata": {},
   "outputs": [
    {
     "name": "stdout",
     "output_type": "stream",
     "text": [
      "<class 'pandas.core.frame.DataFrame'>\n",
      "RangeIndex: 8121 entries, 0 to 8120\n",
      "Data columns (total 8 columns):\n",
      " #   Column                      Non-Null Count  Dtype  \n",
      "---  ------                      --------------  -----  \n",
      " 0   Facility ID                 8121 non-null   int64  \n",
      " 1   State                       8121 non-null   object \n",
      " 2   Measure Name                8121 non-null   object \n",
      " 3   Number of Discharges        8121 non-null   float64\n",
      " 4   Number of Readmissions      8121 non-null   int64  \n",
      " 5   Predicted Readmission Rate  8121 non-null   float64\n",
      " 6   Expected Readmission Rate   8121 non-null   float64\n",
      " 7   Excess Readmission Ratio    8121 non-null   float64\n",
      "dtypes: float64(4), int64(2), object(2)\n",
      "memory usage: 507.7+ KB\n"
     ]
    }
   ],
   "source": [
    "# Keeping only the columns relevant for modeling\n",
    "\n",
    "cols = [\n",
    "    \"Facility ID\",\n",
    "    \"State\",\n",
    "    \"Measure Name\",\n",
    "    \"Number of Discharges\",\n",
    "    \"Number of Readmissions\",\n",
    "    \"Predicted Readmission Rate\",\n",
    "    \"Expected Readmission Rate\",\n",
    "    \"Excess Readmission Ratio\"\n",
    "]\n",
    "df = df[cols].copy()\n",
    "df.info()"
   ]
  },
  {
   "cell_type": "markdown",
   "id": "d31c3976",
   "metadata": {},
   "source": [
    "### 2. Creating the target variable"
   ]
  },
  {
   "cell_type": "code",
   "execution_count": 7,
   "id": "18072cfd",
   "metadata": {},
   "outputs": [
    {
     "data": {
      "text/plain": [
       "High_Readmit\n",
       "1    0.548455\n",
       "0    0.451545\n",
       "Name: Class Share, dtype: float64"
      ]
     },
     "execution_count": 7,
     "metadata": {},
     "output_type": "execute_result"
    }
   ],
   "source": [
    "# Create binary target: 1 if a hospital exceeds expected readmissions (> 1.0)\n",
    "df[\"High_Readmit\"] = (df[\"Excess Readmission Ratio\"] > 1.0).astype(int)\n",
    "\n",
    "# Quick check for proportion\n",
    "df[\"High_Readmit\"].value_counts(normalize=True).rename(\"Class Share\")"
   ]
  },
  {
   "cell_type": "code",
   "execution_count": null,
   "id": "4620bca1",
   "metadata": {},
   "outputs": [],
   "source": []
  }
 ],
 "metadata": {
  "kernelspec": {
   "display_name": "Python 3",
   "language": "python",
   "name": "python3"
  },
  "language_info": {
   "codemirror_mode": {
    "name": "ipython",
    "version": 3
   },
   "file_extension": ".py",
   "mimetype": "text/x-python",
   "name": "python",
   "nbconvert_exporter": "python",
   "pygments_lexer": "ipython3",
   "version": "3.12.1"
  }
 },
 "nbformat": 4,
 "nbformat_minor": 5
}
